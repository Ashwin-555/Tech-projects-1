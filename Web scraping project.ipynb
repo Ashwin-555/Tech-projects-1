{
 "cells": [
  {
   "cell_type": "code",
   "execution_count": null,
   "id": "b4951687-7c60-4d49-8cdc-14551acc8373",
   "metadata": {},
   "outputs": [
    {
     "ename": "",
     "evalue": "",
     "output_type": "error",
     "traceback": [
      "\u001b[1;31mFailed to start the Kernel. \n",
      "\u001b[1;31mBad file descriptor (C:\\Users\\runneradmin\\AppData\\Local\\Temp\\tmpuk6z2au_\\build\\_deps\\bundled_libzmq-src\\src\\epoll.cpp:73). \n",
      "\u001b[1;31mView Jupyter <a href='command:jupyter.viewOutput'>log</a> for further details."
     ]
    }
   ],
   "source": [
    "import requests\n",
    "from bs4 import BeautifulSoup\n",
    "\n",
    "request=requests.get(\"https://en.wikipedia.org/wiki/List_of_countries_and_dependencies_by_area\")\n",
    "soup=BeautifulSoup(request.text,\"html\")\n",
    "soup"
   ]
  },
  {
   "cell_type": "code",
   "execution_count": null,
   "id": "8b8a4c05-23a0-4645-84f5-11544a854480",
   "metadata": {},
   "outputs": [],
   "source": [
    "soup.find('table')"
   ]
  },
  {
   "cell_type": "code",
   "execution_count": null,
   "id": "a54a1fb0-3b62-4c59-8a04-07e74e679e18",
   "metadata": {},
   "outputs": [],
   "source": [
    "table=soup.find_all('table')[1]\n",
    "print(table)"
   ]
  },
  {
   "cell_type": "code",
   "execution_count": null,
   "id": "3cb2d1c6-f144-4ead-82bd-a241721c45f2",
   "metadata": {},
   "outputs": [],
   "source": [
    "title=table.find_all('th')\n",
    "print(title)"
   ]
  },
  {
   "cell_type": "code",
   "execution_count": null,
   "id": "85a20fe1-a91e-426b-90c6-a6768b68a3f4",
   "metadata": {},
   "outputs": [],
   "source": [
    "world_title=[tit.text.strip() for tit in title]\n",
    "print(world_title)"
   ]
  },
  {
   "cell_type": "code",
   "execution_count": null,
   "id": "e85356b5-935d-47df-9829-876533e38daa",
   "metadata": {},
   "outputs": [],
   "source": [
    "import pandas as pd"
   ]
  },
  {
   "cell_type": "code",
   "execution_count": null,
   "id": "3b3becae-8b17-4c8d-b23f-396d57ee6d62",
   "metadata": {},
   "outputs": [],
   "source": [
    "df=pd.DataFrame(columns=world_title)\n",
    "df"
   ]
  },
  {
   "cell_type": "code",
   "execution_count": null,
   "id": "b945dcd8-67e0-42a8-9595-eb47e4d8e2fd",
   "metadata": {},
   "outputs": [],
   "source": [
    "column_data=table.find_all('tr')"
   ]
  },
  {
   "cell_type": "code",
   "execution_count": null,
   "id": "550452c0-ceba-4b7d-91ff-f1afaeeada64",
   "metadata": {},
   "outputs": [],
   "source": [
    "for row in column_data:\n",
    "    row_data=row.find_all('td')\n",
    "    individual_row_data=[data.text.strip() for data in row_data]\n",
    "    df.loc[100]=individual_row_data"
   ]
  },
  {
   "cell_type": "code",
   "execution_count": null,
   "id": "089b6ef8-42b2-4e54-9145-5d2f8b8aa291",
   "metadata": {},
   "outputs": [],
   "source": [
    "df"
   ]
  },
  {
   "cell_type": "code",
   "execution_count": null,
   "id": "a5221619-3282-4adc-8652-31801d23074e",
   "metadata": {},
   "outputs": [],
   "source": []
  },
  {
   "cell_type": "code",
   "execution_count": null,
   "id": "b50735a4-985e-496e-bc7f-6716d7ff6dae",
   "metadata": {},
   "outputs": [],
   "source": []
  }
 ],
 "metadata": {
  "kernelspec": {
   "display_name": "Python 3 (ipykernel)",
   "language": "python",
   "name": "python3"
  },
  "language_info": {
   "codemirror_mode": {
    "name": "ipython",
    "version": 3
   },
   "file_extension": ".py",
   "mimetype": "text/x-python",
   "name": "python",
   "nbconvert_exporter": "python",
   "pygments_lexer": "ipython3",
   "version": "3.12.2"
  },
  "widgets": {
   "application/vnd.jupyter.widget-state+json": {
    "state": {},
    "version_major": 2,
    "version_minor": 0
   }
  }
 },
 "nbformat": 4,
 "nbformat_minor": 5
}
